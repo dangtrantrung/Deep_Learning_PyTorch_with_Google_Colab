{
  "nbformat": 4,
  "nbformat_minor": 0,
  "metadata": {
    "colab": {
      "provenance": [],
      "authorship_tag": "ABX9TyOveY2dMpSurbbI7FXwxFiz",
      "include_colab_link": true
    },
    "kernelspec": {
      "name": "python3",
      "display_name": "Python 3"
    },
    "language_info": {
      "name": "python"
    },
    "accelerator": "TPU"
  },
  "cells": [
    {
      "cell_type": "markdown",
      "metadata": {
        "id": "view-in-github",
        "colab_type": "text"
      },
      "source": [
        "<a href=\"https://colab.research.google.com/github/dangtrantrung/Deep_Learning_PyTorch_with_Google_Colab/blob/master/Deep_Learning_PyTorch_with_Google_Colab.ipynb\" target=\"_parent\"><img src=\"https://colab.research.google.com/assets/colab-badge.svg\" alt=\"Open In Colab\"/></a>"
      ]
    },
    {
      "cell_type": "code",
      "execution_count": 1,
      "metadata": {
        "id": "IETgAodkKjGG"
      },
      "outputs": [],
      "source": [
        "import torch\n"
      ]
    },
    {
      "cell_type": "markdown",
      "source": [
        "// thay thế numpy"
      ],
      "metadata": {
        "id": "X1s6L1zZPI--"
      }
    },
    {
      "cell_type": "code",
      "source": [
        "import numpy as np\n",
        "import pandas as pd\n",
        "import matplotlib.pyplot as plt\n"
      ],
      "metadata": {
        "id": "1DcrbtSRMUBL"
      },
      "execution_count": 2,
      "outputs": []
    },
    {
      "cell_type": "code",
      "source": [
        "x=torch.empty(5,3)\n",
        "x"
      ],
      "metadata": {
        "colab": {
          "base_uri": "https://localhost:8080/"
        },
        "id": "WngP5MUKMiPE",
        "outputId": "3d0e9596-a841-4154-8442-c2a20c1543ab"
      },
      "execution_count": 3,
      "outputs": [
        {
          "output_type": "execute_result",
          "data": {
            "text/plain": [
              "tensor([[-5.0679e+11,  4.5573e-41, -5.4893e+01],\n",
              "        [ 3.2938e-41,  0.0000e+00,  0.0000e+00],\n",
              "        [ 0.0000e+00,  0.0000e+00,  0.0000e+00],\n",
              "        [ 0.0000e+00,  0.0000e+00,  0.0000e+00],\n",
              "        [ 0.0000e+00,  0.0000e+00,  0.0000e+00]])"
            ]
          },
          "metadata": {},
          "execution_count": 3
        }
      ]
    },
    {
      "cell_type": "code",
      "source": [
        "y=torch.rand(5,3)\n",
        "y"
      ],
      "metadata": {
        "colab": {
          "base_uri": "https://localhost:8080/"
        },
        "id": "tT7mNlugM3Tx",
        "outputId": "7c0994ec-0227-4d6e-c124-a1e3135bc8b3"
      },
      "execution_count": 4,
      "outputs": [
        {
          "output_type": "execute_result",
          "data": {
            "text/plain": [
              "tensor([[0.5753, 0.3840, 0.8127],\n",
              "        [0.4136, 0.1197, 0.4693],\n",
              "        [0.8284, 0.9200, 0.8213],\n",
              "        [0.3613, 0.0283, 0.8999],\n",
              "        [0.6654, 0.9694, 0.4531]])"
            ]
          },
          "metadata": {},
          "execution_count": 4
        }
      ]
    },
    {
      "cell_type": "code",
      "source": [
        "zero=torch.zeros(5,3,dtype=torch.long)\n",
        "zero"
      ],
      "metadata": {
        "colab": {
          "base_uri": "https://localhost:8080/"
        },
        "id": "m3GJBTNRNEch",
        "outputId": "293f53e8-636a-43aa-dbb7-bad1c675157a"
      },
      "execution_count": 5,
      "outputs": [
        {
          "output_type": "execute_result",
          "data": {
            "text/plain": [
              "tensor([[0, 0, 0],\n",
              "        [0, 0, 0],\n",
              "        [0, 0, 0],\n",
              "        [0, 0, 0],\n",
              "        [0, 0, 0]])"
            ]
          },
          "metadata": {},
          "execution_count": 5
        }
      ]
    },
    {
      "cell_type": "code",
      "source": [
        "tensor_randn_like=torch.randn_like(x, dtype=torch.double)\n",
        "tensor_randn_like"
      ],
      "metadata": {
        "colab": {
          "base_uri": "https://localhost:8080/"
        },
        "id": "t6BU7m8nOF63",
        "outputId": "9550577a-71d3-4ca4-f03b-30f450e28741"
      },
      "execution_count": 6,
      "outputs": [
        {
          "output_type": "execute_result",
          "data": {
            "text/plain": [
              "tensor([[ 0.8984,  0.4050,  1.2070],\n",
              "        [ 0.8515, -1.3542,  0.3844],\n",
              "        [ 0.9644, -0.6292, -1.1892],\n",
              "        [ 0.7818,  1.2881, -0.1233],\n",
              "        [-0.0448, -0.5233, -0.3932]], dtype=torch.float64)"
            ]
          },
          "metadata": {},
          "execution_count": 6
        }
      ]
    },
    {
      "cell_type": "code",
      "source": [
        "tensor_randn_like.shape"
      ],
      "metadata": {
        "colab": {
          "base_uri": "https://localhost:8080/"
        },
        "id": "TvSCyJtwPCWw",
        "outputId": "c62f3b93-f411-4921-ceaf-31ba3c345670"
      },
      "execution_count": 7,
      "outputs": [
        {
          "output_type": "execute_result",
          "data": {
            "text/plain": [
              "torch.Size([5, 3])"
            ]
          },
          "metadata": {},
          "execution_count": 7
        }
      ]
    },
    {
      "cell_type": "code",
      "source": [
        "k=x+tensor_randn_like\n",
        "k"
      ],
      "metadata": {
        "colab": {
          "base_uri": "https://localhost:8080/"
        },
        "id": "kE_a-E9tPZb0",
        "outputId": "37355377-3b71-434b-b839-07c4e6132b31"
      },
      "execution_count": 8,
      "outputs": [
        {
          "output_type": "execute_result",
          "data": {
            "text/plain": [
              "tensor([[-5.0679e+11,  4.0501e-01, -5.3686e+01],\n",
              "        [ 8.5149e-01, -1.3542e+00,  3.8436e-01],\n",
              "        [ 9.6442e-01, -6.2925e-01, -1.1892e+00],\n",
              "        [ 7.8181e-01,  1.2881e+00, -1.2328e-01],\n",
              "        [-4.4836e-02, -5.2332e-01, -3.9324e-01]], dtype=torch.float64)"
            ]
          },
          "metadata": {},
          "execution_count": 8
        }
      ]
    },
    {
      "cell_type": "code",
      "source": [
        "h=torch.add(x,y)\n",
        "h"
      ],
      "metadata": {
        "colab": {
          "base_uri": "https://localhost:8080/"
        },
        "id": "2klVP_nAPfEP",
        "outputId": "00236054-e15a-4670-af52-d76da01eb5d4"
      },
      "execution_count": 9,
      "outputs": [
        {
          "output_type": "execute_result",
          "data": {
            "text/plain": [
              "tensor([[-5.0679e+11,  3.8395e-01, -5.4080e+01],\n",
              "        [ 4.1361e-01,  1.1965e-01,  4.6930e-01],\n",
              "        [ 8.2842e-01,  9.2004e-01,  8.2134e-01],\n",
              "        [ 3.6131e-01,  2.8347e-02,  8.9988e-01],\n",
              "        [ 6.6542e-01,  9.6937e-01,  4.5310e-01]])"
            ]
          },
          "metadata": {},
          "execution_count": 9
        }
      ]
    },
    {
      "cell_type": "code",
      "source": [
        "# c=a+b\n",
        "a=torch.rand(4,4)\n",
        "b=torch.rand(4,4)\n",
        "c=torch.empty(4,4)\n",
        "torch.add(a,b,out=c)\n",
        "c"
      ],
      "metadata": {
        "colab": {
          "base_uri": "https://localhost:8080/"
        },
        "id": "nxP_ou10P6BA",
        "outputId": "60372f4e-a158-4156-91e5-4a7a42341d5a"
      },
      "execution_count": 10,
      "outputs": [
        {
          "output_type": "execute_result",
          "data": {
            "text/plain": [
              "tensor([[0.5676, 0.6501, 1.4943, 0.4873],\n",
              "        [1.2084, 0.7240, 1.2700, 1.1547],\n",
              "        [1.2704, 1.5644, 1.1425, 1.0434],\n",
              "        [0.6232, 1.8900, 0.7002, 0.5725]])"
            ]
          },
          "metadata": {},
          "execution_count": 10
        }
      ]
    },
    {
      "cell_type": "code",
      "source": [
        "a[:,1]\n",
        "a[:,2]"
      ],
      "metadata": {
        "colab": {
          "base_uri": "https://localhost:8080/"
        },
        "id": "rE8TquA1Q90d",
        "outputId": "f18dea07-5482-460f-97db-da940f98b0f9"
      },
      "execution_count": 11,
      "outputs": [
        {
          "output_type": "execute_result",
          "data": {
            "text/plain": [
              "tensor([0.5722, 0.5584, 0.8624, 0.1347])"
            ]
          },
          "metadata": {},
          "execution_count": 11
        }
      ]
    },
    {
      "cell_type": "code",
      "source": [
        "a[:,3]"
      ],
      "metadata": {
        "colab": {
          "base_uri": "https://localhost:8080/"
        },
        "id": "SOYt0Bu0RInd",
        "outputId": "8a1b52ea-40fd-41a2-b095-376db10fcf32"
      },
      "execution_count": 12,
      "outputs": [
        {
          "output_type": "execute_result",
          "data": {
            "text/plain": [
              "tensor([0.4713, 0.1768, 0.8536, 0.5570])"
            ]
          },
          "metadata": {},
          "execution_count": 12
        }
      ]
    },
    {
      "cell_type": "code",
      "source": [
        "a[0:3,1:2]"
      ],
      "metadata": {
        "colab": {
          "base_uri": "https://localhost:8080/"
        },
        "id": "RuZDxJlZROzA",
        "outputId": "0720171a-744e-4cf5-d4f6-eb46d4eed67e"
      },
      "execution_count": 13,
      "outputs": [
        {
          "output_type": "execute_result",
          "data": {
            "text/plain": [
              "tensor([[0.2994],\n",
              "        [0.2100],\n",
              "        [0.8674]])"
            ]
          },
          "metadata": {},
          "execution_count": 13
        }
      ]
    },
    {
      "cell_type": "code",
      "source": [
        "view=a.view(16)"
      ],
      "metadata": {
        "id": "GA05T-S4Rpfq"
      },
      "execution_count": 14,
      "outputs": []
    },
    {
      "cell_type": "code",
      "source": [
        "view.shape"
      ],
      "metadata": {
        "colab": {
          "base_uri": "https://localhost:8080/"
        },
        "id": "727LnA3QRxZn",
        "outputId": "f474d746-1e80-4639-c4ae-e91b1b5ef990"
      },
      "execution_count": 15,
      "outputs": [
        {
          "output_type": "execute_result",
          "data": {
            "text/plain": [
              "torch.Size([16])"
            ]
          },
          "metadata": {},
          "execution_count": 15
        }
      ]
    },
    {
      "cell_type": "code",
      "source": [
        "y=a.view(-1,8)\n",
        "y"
      ],
      "metadata": {
        "colab": {
          "base_uri": "https://localhost:8080/"
        },
        "id": "5rp1OAhsR_dC",
        "outputId": "d3908ecf-677f-4b10-9caf-455163f9f46c"
      },
      "execution_count": 16,
      "outputs": [
        {
          "output_type": "execute_result",
          "data": {
            "text/plain": [
              "tensor([[0.4351, 0.2994, 0.5722, 0.4713, 0.9250, 0.2100, 0.5584, 0.1768],\n",
              "        [0.8130, 0.8674, 0.8624, 0.8536, 0.0095, 0.9064, 0.1347, 0.5570]])"
            ]
          },
          "metadata": {},
          "execution_count": 16
        }
      ]
    },
    {
      "cell_type": "code",
      "source": [
        "one=torch.randn(1)\n",
        "one"
      ],
      "metadata": {
        "colab": {
          "base_uri": "https://localhost:8080/"
        },
        "id": "uYk8sHwh59T0",
        "outputId": "8d086cfd-86ac-4bc8-cb0b-118e30e1a1d6"
      },
      "execution_count": 17,
      "outputs": [
        {
          "output_type": "execute_result",
          "data": {
            "text/plain": [
              "tensor([1.1874])"
            ]
          },
          "metadata": {},
          "execution_count": 17
        }
      ]
    },
    {
      "cell_type": "code",
      "source": [
        "a=np.ones(3)\n",
        "a"
      ],
      "metadata": {
        "colab": {
          "base_uri": "https://localhost:8080/"
        },
        "id": "xyHioKua7wco",
        "outputId": "2e7c031a-eb6f-4fce-f4fb-183aa40869da"
      },
      "execution_count": 18,
      "outputs": [
        {
          "output_type": "execute_result",
          "data": {
            "text/plain": [
              "array([1., 1., 1.])"
            ]
          },
          "metadata": {},
          "execution_count": 18
        }
      ]
    },
    {
      "cell_type": "code",
      "source": [
        "b=torch.from_numpy(a)\n",
        "b"
      ],
      "metadata": {
        "colab": {
          "base_uri": "https://localhost:8080/"
        },
        "id": "6e3kYbla8As6",
        "outputId": "56cd7dab-8423-4ac5-c8c6-346126928f5d"
      },
      "execution_count": 19,
      "outputs": [
        {
          "output_type": "execute_result",
          "data": {
            "text/plain": [
              "tensor([1., 1., 1.], dtype=torch.float64)"
            ]
          },
          "metadata": {},
          "execution_count": 19
        }
      ]
    },
    {
      "cell_type": "code",
      "source": [
        "# if device has GPU - T4 GPU - CPU or TPU\n",
        "device=torch.cuda.is_available()\n",
        "device"
      ],
      "metadata": {
        "colab": {
          "base_uri": "https://localhost:8080/"
        },
        "id": "i4Wmt89P8adW",
        "outputId": "8f44277c-6ddd-4251-bf8c-cc8ac091da02"
      },
      "execution_count": 20,
      "outputs": [
        {
          "output_type": "execute_result",
          "data": {
            "text/plain": [
              "False"
            ]
          },
          "metadata": {},
          "execution_count": 20
        }
      ]
    },
    {
      "cell_type": "code",
      "source": [
        "#x.cpu() chuyển về tính toán trên CPU không tính trên TGPU hay TPU\n",
        "b.cpu()"
      ],
      "metadata": {
        "colab": {
          "base_uri": "https://localhost:8080/"
        },
        "id": "kfKSEoo29JPY",
        "outputId": "c5dc385e-2930-481c-e653-54590bfe6b07"
      },
      "execution_count": 21,
      "outputs": [
        {
          "output_type": "execute_result",
          "data": {
            "text/plain": [
              "tensor([1., 1., 1.], dtype=torch.float64)"
            ]
          },
          "metadata": {},
          "execution_count": 21
        }
      ]
    },
    {
      "cell_type": "code",
      "source": [
        "# các hàm trên tensor\n",
        "# lưu thông tin gradient, function_fn đã sử dụng của tensor\n",
        "# backward: đạo hàm\n",
        "# grad: lưu thông tin đạo hàm của tensor\n",
        "x=torch.tensor(2.0,requires_grad=True)\n",
        "x"
      ],
      "metadata": {
        "colab": {
          "base_uri": "https://localhost:8080/"
        },
        "id": "ICNf_Cle9w5J",
        "outputId": "60699e72-c03d-41f3-e35b-74c1a49c5b4d"
      },
      "execution_count": 22,
      "outputs": [
        {
          "output_type": "execute_result",
          "data": {
            "text/plain": [
              "tensor(2., requires_grad=True)"
            ]
          },
          "metadata": {},
          "execution_count": 22
        }
      ]
    },
    {
      "cell_type": "code",
      "source": [
        "y=torch.exp(x)\n",
        "y"
      ],
      "metadata": {
        "colab": {
          "base_uri": "https://localhost:8080/"
        },
        "id": "E5mp1rfH-ire",
        "outputId": "1159ce60-adbb-4b9d-9ed4-2ef964ec9270"
      },
      "execution_count": 23,
      "outputs": [
        {
          "output_type": "execute_result",
          "data": {
            "text/plain": [
              "tensor(7.3891, grad_fn=<ExpBackward0>)"
            ]
          },
          "metadata": {},
          "execution_count": 23
        }
      ]
    },
    {
      "cell_type": "code",
      "source": [
        "y.backward(retain_graph=True)\n",
        "x.grad"
      ],
      "metadata": {
        "colab": {
          "base_uri": "https://localhost:8080/"
        },
        "id": "h79Qy2xD-_eY",
        "outputId": "ef4a2c88-cb29-4ac9-e3f6-3b19bd7bbdf2"
      },
      "execution_count": 24,
      "outputs": [
        {
          "output_type": "execute_result",
          "data": {
            "text/plain": [
              "tensor(7.3891)"
            ]
          },
          "metadata": {},
          "execution_count": 24
        }
      ]
    },
    {
      "cell_type": "markdown",
      "source": [
        "### Build Model NN"
      ],
      "metadata": {
        "id": "dXpV9-EUBjpz"
      }
    },
    {
      "cell_type": "code",
      "source": [
        "import torch.nn as nn\n",
        "import torch.nn.functional as F\n"
      ],
      "metadata": {
        "id": "806zrNxjAOLi"
      },
      "execution_count": 26,
      "outputs": []
    },
    {
      "cell_type": "code",
      "source": [
        "class Net(nn.Module):\n",
        "  def __init__(self):\n",
        "    super(Net,self).__init__()\n",
        "    # 5 layers\n",
        "    self.conv1=nn.Conv2d(1,6,3)\n",
        "    self.conv2=nn.Conv2d(6,16,3)\n",
        "    self.fc1=nn.Linear(16*6*6,120)\n",
        "    self.fc2=nn.Linear(120,84)\n",
        "    self.fc3=nn.Linear(84,10)\n",
        "\n",
        "    # forward, kernel w*h\n",
        "    # 1,2\n",
        "    # 3,4 max+pool2d =>4 in kernel 2x2\n",
        "  def forward(self,x):\n",
        "    x=self.conv1(x)\n",
        "    x=F.max_pool2d(x,(2,2))\n"
      ],
      "metadata": {
        "id": "3w3JvCqwBx1b"
      },
      "execution_count": 27,
      "outputs": []
    }
  ]
}