{
  "nbformat": 4,
  "nbformat_minor": 0,
  "metadata": {
    "colab": {
      "provenance": [],
      "authorship_tag": "ABX9TyOYnkAFlQ9cj2l9YElI5ZSq",
      "include_colab_link": true
    },
    "kernelspec": {
      "name": "python3",
      "display_name": "Python 3"
    },
    "language_info": {
      "name": "python"
    },
    "accelerator": "TPU"
  },
  "cells": [
    {
      "cell_type": "markdown",
      "metadata": {
        "id": "view-in-github",
        "colab_type": "text"
      },
      "source": [
        "<a href=\"https://colab.research.google.com/github/dangtrantrung/Deep_Learning_PyTorch_with_Google_Colab/blob/master/Deep_Learning_PyTorch_with_Google_Colab.ipynb\" target=\"_parent\"><img src=\"https://colab.research.google.com/assets/colab-badge.svg\" alt=\"Open In Colab\"/></a>"
      ]
    },
    {
      "cell_type": "code",
      "execution_count": 1,
      "metadata": {
        "id": "IETgAodkKjGG"
      },
      "outputs": [],
      "source": [
        "import torch"
      ]
    },
    {
      "cell_type": "markdown",
      "source": [
        "// thay thế numpy"
      ],
      "metadata": {
        "id": "X1s6L1zZPI--"
      }
    },
    {
      "cell_type": "code",
      "source": [
        "import numpy as np\n",
        "import pandas as pd\n",
        "import matplotlib.pyplot as plt\n"
      ],
      "metadata": {
        "id": "1DcrbtSRMUBL"
      },
      "execution_count": 2,
      "outputs": []
    },
    {
      "cell_type": "code",
      "source": [
        "x=torch.empty(5,3)\n",
        "x"
      ],
      "metadata": {
        "colab": {
          "base_uri": "https://localhost:8080/"
        },
        "id": "WngP5MUKMiPE",
        "outputId": "e5631571-5374-410a-a7f1-63079c7fcbf8"
      },
      "execution_count": 3,
      "outputs": [
        {
          "output_type": "execute_result",
          "data": {
            "text/plain": [
              "tensor([[0., 0., 0.],\n",
              "        [0., 0., 0.],\n",
              "        [0., 0., 0.],\n",
              "        [0., 0., 0.],\n",
              "        [0., 0., 0.]])"
            ]
          },
          "metadata": {},
          "execution_count": 3
        }
      ]
    },
    {
      "cell_type": "code",
      "source": [
        "y=torch.rand(5,3)\n",
        "y"
      ],
      "metadata": {
        "colab": {
          "base_uri": "https://localhost:8080/"
        },
        "id": "tT7mNlugM3Tx",
        "outputId": "575957fe-aa8c-4e7b-e758-fd35ed379414"
      },
      "execution_count": 4,
      "outputs": [
        {
          "output_type": "execute_result",
          "data": {
            "text/plain": [
              "tensor([[0.6862, 0.5167, 0.4823],\n",
              "        [0.8387, 0.2289, 0.3370],\n",
              "        [0.1086, 0.1640, 0.6589],\n",
              "        [0.9203, 0.4836, 0.1194],\n",
              "        [0.9207, 0.9917, 0.2382]])"
            ]
          },
          "metadata": {},
          "execution_count": 4
        }
      ]
    },
    {
      "cell_type": "code",
      "source": [
        "zero=torch.zeros(5,3,dtype=torch.long)\n",
        "zero"
      ],
      "metadata": {
        "colab": {
          "base_uri": "https://localhost:8080/"
        },
        "id": "m3GJBTNRNEch",
        "outputId": "ace6e8cd-7dc9-4d50-b864-6a8e0b9569a3"
      },
      "execution_count": 5,
      "outputs": [
        {
          "output_type": "execute_result",
          "data": {
            "text/plain": [
              "tensor([[0, 0, 0],\n",
              "        [0, 0, 0],\n",
              "        [0, 0, 0],\n",
              "        [0, 0, 0],\n",
              "        [0, 0, 0]])"
            ]
          },
          "metadata": {},
          "execution_count": 5
        }
      ]
    },
    {
      "cell_type": "code",
      "source": [
        "tensor_randn_like=torch.randn_like(x, dtype=torch.double)\n",
        "tensor_randn_like"
      ],
      "metadata": {
        "colab": {
          "base_uri": "https://localhost:8080/"
        },
        "id": "t6BU7m8nOF63",
        "outputId": "c90166bb-e863-4043-93bd-a9f11f7c0dc3"
      },
      "execution_count": 6,
      "outputs": [
        {
          "output_type": "execute_result",
          "data": {
            "text/plain": [
              "tensor([[-0.3433,  0.3863,  0.3138],\n",
              "        [ 0.8266,  0.1972,  0.6965],\n",
              "        [ 0.1066, -0.5767,  0.0899],\n",
              "        [-1.5566, -0.9251, -1.4881],\n",
              "        [ 0.2047, -1.7453,  0.4417]], dtype=torch.float64)"
            ]
          },
          "metadata": {},
          "execution_count": 6
        }
      ]
    },
    {
      "cell_type": "code",
      "source": [
        "tensor_randn_like.shape"
      ],
      "metadata": {
        "colab": {
          "base_uri": "https://localhost:8080/"
        },
        "id": "TvSCyJtwPCWw",
        "outputId": "15bfe16c-2b97-4a49-b391-3bd97fc6d772"
      },
      "execution_count": 7,
      "outputs": [
        {
          "output_type": "execute_result",
          "data": {
            "text/plain": [
              "torch.Size([5, 3])"
            ]
          },
          "metadata": {},
          "execution_count": 7
        }
      ]
    },
    {
      "cell_type": "code",
      "source": [
        "k=x+tensor_randn_like\n",
        "k"
      ],
      "metadata": {
        "colab": {
          "base_uri": "https://localhost:8080/"
        },
        "id": "kE_a-E9tPZb0",
        "outputId": "660a066c-e957-4552-d03f-351ebe09beb6"
      },
      "execution_count": 8,
      "outputs": [
        {
          "output_type": "execute_result",
          "data": {
            "text/plain": [
              "tensor([[-0.3433,  0.3863,  0.3138],\n",
              "        [ 0.8266,  0.1972,  0.6965],\n",
              "        [ 0.1066, -0.5767,  0.0899],\n",
              "        [-1.5566, -0.9251, -1.4881],\n",
              "        [ 0.2047, -1.7453,  0.4417]], dtype=torch.float64)"
            ]
          },
          "metadata": {},
          "execution_count": 8
        }
      ]
    },
    {
      "cell_type": "code",
      "source": [
        "h=torch.add(x,y)\n",
        "h"
      ],
      "metadata": {
        "colab": {
          "base_uri": "https://localhost:8080/"
        },
        "id": "2klVP_nAPfEP",
        "outputId": "bc5b9111-f7a2-4db6-8e84-391f88ee33bb"
      },
      "execution_count": 9,
      "outputs": [
        {
          "output_type": "execute_result",
          "data": {
            "text/plain": [
              "tensor([[0.6862, 0.5167, 0.4823],\n",
              "        [0.8387, 0.2289, 0.3370],\n",
              "        [0.1086, 0.1640, 0.6589],\n",
              "        [0.9203, 0.4836, 0.1194],\n",
              "        [0.9207, 0.9917, 0.2382]])"
            ]
          },
          "metadata": {},
          "execution_count": 9
        }
      ]
    },
    {
      "cell_type": "code",
      "source": [
        "# c=a+b\n",
        "a=torch.rand(4,4)\n",
        "b=torch.rand(4,4)\n",
        "c=torch.empty(4,4)\n",
        "torch.add(a,b,out=c)\n",
        "c"
      ],
      "metadata": {
        "colab": {
          "base_uri": "https://localhost:8080/"
        },
        "id": "nxP_ou10P6BA",
        "outputId": "d4ed6a27-f152-4120-dffc-e0734432b8d5"
      },
      "execution_count": 10,
      "outputs": [
        {
          "output_type": "execute_result",
          "data": {
            "text/plain": [
              "tensor([[0.7952, 0.7526, 1.5742, 1.1548],\n",
              "        [1.1334, 0.6883, 1.2030, 0.5486],\n",
              "        [1.2593, 1.6037, 1.3680, 0.7058],\n",
              "        [1.0974, 1.6470, 0.2847, 1.3393]])"
            ]
          },
          "metadata": {},
          "execution_count": 10
        }
      ]
    },
    {
      "cell_type": "code",
      "source": [
        "a[:,1]\n",
        "a[:,2]"
      ],
      "metadata": {
        "colab": {
          "base_uri": "https://localhost:8080/"
        },
        "id": "rE8TquA1Q90d",
        "outputId": "bac04120-c33e-4e94-e65e-6aaee4dce880"
      },
      "execution_count": 11,
      "outputs": [
        {
          "output_type": "execute_result",
          "data": {
            "text/plain": [
              "tensor([0.8295, 0.4297, 0.7592, 0.0598])"
            ]
          },
          "metadata": {},
          "execution_count": 11
        }
      ]
    },
    {
      "cell_type": "code",
      "source": [
        "a[:,3]"
      ],
      "metadata": {
        "colab": {
          "base_uri": "https://localhost:8080/"
        },
        "id": "SOYt0Bu0RInd",
        "outputId": "af1866a7-a6df-4f68-ad96-f65cb59dd08c"
      },
      "execution_count": 12,
      "outputs": [
        {
          "output_type": "execute_result",
          "data": {
            "text/plain": [
              "tensor([0.4893, 0.1020, 0.5965, 0.6092])"
            ]
          },
          "metadata": {},
          "execution_count": 12
        }
      ]
    },
    {
      "cell_type": "code",
      "source": [
        "a[0:3,1:2]"
      ],
      "metadata": {
        "colab": {
          "base_uri": "https://localhost:8080/"
        },
        "id": "RuZDxJlZROzA",
        "outputId": "f1bdca4c-6a9d-484b-d330-502e5bf08b99"
      },
      "execution_count": 13,
      "outputs": [
        {
          "output_type": "execute_result",
          "data": {
            "text/plain": [
              "tensor([[0.3427],\n",
              "        [0.2799],\n",
              "        [0.6217]])"
            ]
          },
          "metadata": {},
          "execution_count": 13
        }
      ]
    },
    {
      "cell_type": "code",
      "source": [
        "view=a.view(16)"
      ],
      "metadata": {
        "id": "GA05T-S4Rpfq"
      },
      "execution_count": 14,
      "outputs": []
    },
    {
      "cell_type": "code",
      "source": [
        "view.shape"
      ],
      "metadata": {
        "colab": {
          "base_uri": "https://localhost:8080/"
        },
        "id": "727LnA3QRxZn",
        "outputId": "ab316785-3064-4f27-f5c3-64d6ad6bc6ab"
      },
      "execution_count": 15,
      "outputs": [
        {
          "output_type": "execute_result",
          "data": {
            "text/plain": [
              "torch.Size([16])"
            ]
          },
          "metadata": {},
          "execution_count": 15
        }
      ]
    },
    {
      "cell_type": "code",
      "source": [
        "y=a.view(-1,8)\n",
        "y"
      ],
      "metadata": {
        "colab": {
          "base_uri": "https://localhost:8080/"
        },
        "id": "5rp1OAhsR_dC",
        "outputId": "5ebf7a9d-218e-4e78-f63a-a7d3ba3ac854"
      },
      "execution_count": 16,
      "outputs": [
        {
          "output_type": "execute_result",
          "data": {
            "text/plain": [
              "tensor([[0.7147, 0.3427, 0.8295, 0.4893, 0.9625, 0.2799, 0.4297, 0.1020],\n",
              "        [0.4748, 0.6217, 0.7592, 0.5965, 0.5519, 0.8963, 0.0598, 0.6092]])"
            ]
          },
          "metadata": {},
          "execution_count": 16
        }
      ]
    },
    {
      "cell_type": "code",
      "source": [],
      "metadata": {
        "id": "9O1Ov4HtSkYd"
      },
      "execution_count": 16,
      "outputs": []
    }
  ]
}